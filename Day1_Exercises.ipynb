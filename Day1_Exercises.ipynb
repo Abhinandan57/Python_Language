{
 "cells": [
  {
   "cell_type": "markdown",
   "id": "8354d69e",
   "metadata": {},
   "source": [
    "<h2 style = \"color : red\">Python Print Function</h2>"
   ]
  },
  {
   "cell_type": "markdown",
   "id": "d60f0b17",
   "metadata": {},
   "source": [
    "## Exercise - 1\n",
    "### Write a program that prints as given below:  \n",
    "\n",
    "Day 1 - Python Print Function  \n",
    "The function is declared like this:  \n",
    "print('what to print')"
   ]
  },
  {
   "cell_type": "code",
   "execution_count": 2,
   "id": "63747f4d",
   "metadata": {},
   "outputs": [
    {
     "name": "stdout",
     "output_type": "stream",
     "text": [
      "Day 1 - Python Print Function\n",
      "The function is declared like this:\n",
      "print('what to print')\n"
     ]
    }
   ],
   "source": [
    "print(\"Day 1 - Python Print Function\")\n",
    "print(\"The function is declared like this:\")\n",
    "print(\"print('what to print')\")"
   ]
  },
  {
   "cell_type": "markdown",
   "id": "42aee0ed",
   "metadata": {},
   "source": [
    "#### Another way to get the same output: "
   ]
  },
  {
   "cell_type": "code",
   "execution_count": 4,
   "id": "4ad4f5b4",
   "metadata": {},
   "outputs": [
    {
     "name": "stdout",
     "output_type": "stream",
     "text": [
      "Day 1 - Python Print Function\n",
      "The function is declared like this:\n",
      "print('what to print')\n"
     ]
    }
   ],
   "source": [
    "print(\"Day 1 - Python Print Function\\nThe function is declared like this:\\nprint('what to print')\")"
   ]
  },
  {
   "cell_type": "markdown",
   "id": "c7f352e0",
   "metadata": {},
   "source": [
    "## Exercise - 2\n",
    "### Write a program that prints as given below:  \n",
    "Day 1 - String Manipulation  \n",
    "String Concatenation is done with the \"+\" sign.  \n",
    "e.g. print(\"Hello \" + \"world\")  \n",
    "New lines can be created with a backslash and n."
   ]
  },
  {
   "cell_type": "code",
   "execution_count": 3,
   "id": "23a1a2a8",
   "metadata": {},
   "outputs": [
    {
     "name": "stdout",
     "output_type": "stream",
     "text": [
      "Day 1 - String Manipulation\n",
      "String Concatenation is done with the \"+\" sign.\n",
      "e.g. print(\"Hello \" + \"world\")\n",
      "New lines can be created with a backslash and n.\n"
     ]
    }
   ],
   "source": [
    "print(\"Day 1 - String Manipulation\")\n",
    "print('String Concatenation is done with the \"+\" sign.')\n",
    "print('e.g. print(\"Hello \" + \"world\")')\n",
    "print(\"New lines can be created with a backslash and n.\")"
   ]
  },
  {
   "cell_type": "markdown",
   "id": "e5ce8cfe",
   "metadata": {},
   "source": [
    "#### Another way to get the same output:"
   ]
  },
  {
   "cell_type": "code",
   "execution_count": 5,
   "id": "bd989d28",
   "metadata": {},
   "outputs": [
    {
     "name": "stdout",
     "output_type": "stream",
     "text": [
      "Day 1 - String Manipulation\n",
      "String Concatenation is done with the \"+\" sign.\n",
      "e.g. print(\"Hello \" + \"world\")\n",
      "New lines can be created with a backslash and n.\n"
     ]
    }
   ],
   "source": [
    "print('Day 1 - String Manipulation\\nString Concatenation is done with the \"+\" sign.\\ne.g. print(\"Hello \" + \"world\")\\nNew lines can be created with a backslash and n.')"
   ]
  },
  {
   "cell_type": "markdown",
   "id": "a8907ad9",
   "metadata": {},
   "source": [
    "<h2 style = \"color : red\">Python Input Function</h2>"
   ]
  },
  {
   "cell_type": "code",
   "execution_count": 6,
   "id": "b303468b",
   "metadata": {},
   "outputs": [
    {
     "name": "stdout",
     "output_type": "stream",
     "text": [
      "What is your name?Abhinandan\n",
      "Hello Abhinandan\n"
     ]
    }
   ],
   "source": [
    "print(\"Hello \" + input(\"What is your name?\"))"
   ]
  },
  {
   "cell_type": "markdown",
   "id": "52903af8",
   "metadata": {},
   "source": [
    "## Exercise - 3\n",
    "### Write a program that prints the number of characters in a user's name. Your program should work for different inputs. e.g. any name that you input."
   ]
  },
  {
   "cell_type": "code",
   "execution_count": 7,
   "id": "f5c3f671",
   "metadata": {},
   "outputs": [
    {
     "name": "stdout",
     "output_type": "stream",
     "text": [
      "What is your name? Abhi\n"
     ]
    },
    {
     "data": {
      "text/plain": [
       "4"
      ]
     },
     "execution_count": 7,
     "metadata": {},
     "output_type": "execute_result"
    }
   ],
   "source": [
    "len(input(\"What is your name? \"))"
   ]
  },
  {
   "cell_type": "code",
   "execution_count": 8,
   "id": "d142aa04",
   "metadata": {},
   "outputs": [
    {
     "name": "stdout",
     "output_type": "stream",
     "text": [
      "What is your name? Abhi\n",
      "4\n"
     ]
    }
   ],
   "source": [
    "print(len(input(\"What is your name? \")))"
   ]
  },
  {
   "cell_type": "markdown",
   "id": "9654e9bd",
   "metadata": {},
   "source": [
    "<h2 style = \"color : red\">Python Variables</h2>"
   ]
  },
  {
   "cell_type": "code",
   "execution_count": 9,
   "id": "dc49fa48",
   "metadata": {},
   "outputs": [
    {
     "name": "stdout",
     "output_type": "stream",
     "text": [
      "What is your name? Abhi\n",
      "Abhi\n"
     ]
    }
   ],
   "source": [
    "name = input(\"What is your name? \")\n",
    "print(name)"
   ]
  },
  {
   "cell_type": "code",
   "execution_count": 10,
   "id": "ab9bfc3b",
   "metadata": {},
   "outputs": [
    {
     "name": "stdout",
     "output_type": "stream",
     "text": [
      "Abhi\n"
     ]
    }
   ],
   "source": [
    "name = \"Abhi\"\n",
    "print(name)"
   ]
  },
  {
   "cell_type": "code",
   "execution_count": 11,
   "id": "956cc90c",
   "metadata": {},
   "outputs": [
    {
     "name": "stdout",
     "output_type": "stream",
     "text": [
      "What is your name? Abhi\n",
      "4\n"
     ]
    }
   ],
   "source": [
    "name = input(\"What is your name? \")\n",
    "length = len(name)\n",
    "print(length)"
   ]
  },
  {
   "cell_type": "markdown",
   "id": "96a24481",
   "metadata": {},
   "source": [
    "## Exercise - 4\n",
    "### Write a program that switches the values stored in the variables a and b. Your program should work for different inputs. e.g. any value of a and b."
   ]
  },
  {
   "cell_type": "code",
   "execution_count": 12,
   "id": "b79d09cf",
   "metadata": {},
   "outputs": [
    {
     "name": "stdout",
     "output_type": "stream",
     "text": [
      "a: 2\n",
      "b: 3\n",
      "a: 3\n",
      "b: 2\n"
     ]
    }
   ],
   "source": [
    "a = input(\"a: \")\n",
    "b = input(\"b: \")\n",
    "\n",
    "# assigning the value stored in a to c\n",
    "c = a\n",
    "# assigning the value stored in b to a\n",
    "a = b\n",
    "# assigning the value stored in c to b\n",
    "b = c\n",
    "\n",
    "print(\"a: \" + a)\n",
    "print(\"b: \" + b)"
   ]
  },
  {
   "cell_type": "markdown",
   "id": "ac60b134",
   "metadata": {},
   "source": [
    "<h2 style = \"color : red\">Project</h2>\n",
    "\n",
    "<h3 style = \"color : blue\">Band Name Generator</h3>\n",
    "\n",
    "1. Create a greeting for your program.  \n",
    "2. Ask the user for the city that they grew up in.  \n",
    "3. Ask the user for the name of a pet.  \n",
    "4. Combine the name of their city and pet and show them their band name with a space between the names.  \n",
    "\n",
    "**Note:** Make sure the input cursor shows on a new line."
   ]
  },
  {
   "cell_type": "code",
   "execution_count": 15,
   "id": "cb67f8a8",
   "metadata": {},
   "outputs": [
    {
     "name": "stdout",
     "output_type": "stream",
     "text": [
      "Welcome to the Band Name Generator.\n",
      "What's name of the city you grew up in?\n",
      "Cuttack\n",
      "What's your pet's name?\n",
      "James\n",
      "Your band name could be Cuttack James\n"
     ]
    }
   ],
   "source": [
    "#1. Create a greeting for your program.\n",
    "print(\"Welcome to the Band Name Generator.\")\n",
    "\n",
    "#2. Ask the user for the city that they grew up in.\n",
    "city_name = input(\"What's name of the city you grew up in?\\n\")\n",
    "\n",
    "#3. Ask the user for the name of a pet.\n",
    "pet_name = input(\"What's your pet's name?\\n\")\n",
    "\n",
    "#4. Combine the name of their city and pet and show them their band name\n",
    "print(\"Your band name could be \" + city_name + \" \" + pet_name)"
   ]
  }
 ],
 "metadata": {
  "kernelspec": {
   "display_name": "Python 3 (ipykernel)",
   "language": "python",
   "name": "python3"
  },
  "language_info": {
   "codemirror_mode": {
    "name": "ipython",
    "version": 3
   },
   "file_extension": ".py",
   "mimetype": "text/x-python",
   "name": "python",
   "nbconvert_exporter": "python",
   "pygments_lexer": "ipython3",
   "version": "3.10.9"
  }
 },
 "nbformat": 4,
 "nbformat_minor": 5
}
